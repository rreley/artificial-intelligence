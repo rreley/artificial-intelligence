{
  "nbformat": 4,
  "nbformat_minor": 0,
  "metadata": {
    "colab": {
      "name": "Project1.ipynb",
      "provenance": [],
      "collapsed_sections": [],
      "authorship_tag": "ABX9TyMXzigIyQ9vEbJCpIbHbsJG"
    },
    "kernelspec": {
      "name": "python3",
      "display_name": "Python 3"
    }
  },
  "cells": [
    {
      "cell_type": "code",
      "metadata": {
        "colab": {
          "base_uri": "https://localhost:8080/"
        },
        "id": "rOvaGdCrgROP",
        "outputId": "1e2cc204-ed4e-45e4-d3d1-ec4c77a137bc"
      },
      "source": [
        "from google.colab import drive\n",
        "drive.mount('/content/gdrive')"
      ],
      "execution_count": null,
      "outputs": [
        {
          "output_type": "stream",
          "text": [
            "Mounted at /content/gdrive\n"
          ],
          "name": "stdout"
        }
      ]
    },
    {
      "cell_type": "code",
      "metadata": {
        "colab": {
          "resources": {
            "http://localhost:8080/nbextensions/google.colab/files.js": {
              "data": "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",
              "ok": true,
              "headers": [
                [
                  "content-type",
                  "application/javascript"
                ]
              ],
              "status": 200,
              "status_text": ""
            }
          },
          "base_uri": "https://localhost:8080/",
          "height": 110
        },
        "id": "-nHEQdvNxWwL",
        "outputId": "6453c910-5bb4-4d88-9877-eb436eb6f75c"
      },
      "source": [
        "from google.colab import files\n",
        "files.upload()"
      ],
      "execution_count": null,
      "outputs": [
        {
          "output_type": "display_data",
          "data": {
            "text/html": [
              "\n",
              "     <input type=\"file\" id=\"files-9a5f13ca-5521-4473-af26-1537f1013b1b\" name=\"files[]\" multiple disabled\n",
              "        style=\"border:none\" />\n",
              "     <output id=\"result-9a5f13ca-5521-4473-af26-1537f1013b1b\">\n",
              "      Upload widget is only available when the cell has been executed in the\n",
              "      current browser session. Please rerun this cell to enable.\n",
              "      </output>\n",
              "      <script src=\"/nbextensions/google.colab/files.js\"></script> "
            ],
            "text/plain": [
              "<IPython.core.display.HTML object>"
            ]
          },
          "metadata": {
            "tags": []
          }
        },
        {
          "output_type": "stream",
          "text": [
            "Saving ex1data1.txt to ex1data1.txt\n"
          ],
          "name": "stdout"
        },
        {
          "output_type": "execute_result",
          "data": {
            "text/plain": [
              "{'ex1data1.txt': b'6.1101,17.592\\r\\n5.5277,9.1302\\r\\n8.5186,13.662\\r\\n7.0032,11.854\\r\\n5.8598,6.8233\\r\\n8.3829,11.886\\r\\n7.4764,4.3483\\r\\n8.5781,12\\r\\n6.4862,6.5987\\r\\n5.0546,3.8166\\r\\n5.7107,3.2522\\r\\n14.164,15.505\\r\\n5.734,3.1551\\r\\n8.4084,7.2258\\r\\n5.6407,0.71618\\r\\n5.3794,3.5129\\r\\n6.3654,5.3048\\r\\n5.1301,0.56077\\r\\n6.4296,3.6518\\r\\n7.0708,5.3893\\r\\n6.1891,3.1386\\r\\n20.27,21.767\\r\\n5.4901,4.263\\r\\n6.3261,5.1875\\r\\n5.5649,3.0825\\r\\n18.945,22.638\\r\\n12.828,13.501\\r\\n10.957,7.0467\\r\\n13.176,14.692\\r\\n22.203,24.147\\r\\n5.2524,-1.22\\r\\n6.5894,5.9966\\r\\n9.2482,12.134\\r\\n5.8918,1.8495\\r\\n8.2111,6.5426\\r\\n7.9334,4.5623\\r\\n8.0959,4.1164\\r\\n5.6063,3.3928\\r\\n12.836,10.117\\r\\n6.3534,5.4974\\r\\n5.4069,0.55657\\r\\n6.8825,3.9115\\r\\n11.708,5.3854\\r\\n5.7737,2.4406\\r\\n7.8247,6.7318\\r\\n7.0931,1.0463\\r\\n5.0702,5.1337\\r\\n5.8014,1.844\\r\\n11.7,8.0043\\r\\n5.5416,1.0179\\r\\n7.5402,6.7504\\r\\n5.3077,1.8396\\r\\n7.4239,4.2885\\r\\n7.6031,4.9981\\r\\n6.3328,1.4233\\r\\n6.3589,-1.4211\\r\\n6.2742,2.4756\\r\\n5.6397,4.6042\\r\\n9.3102,3.9624\\r\\n9.4536,5.4141\\r\\n8.8254,5.1694\\r\\n5.1793,-0.74279\\r\\n21.279,17.929\\r\\n14.908,12.054\\r\\n18.959,17.054\\r\\n7.2182,4.8852\\r\\n8.2951,5.7442\\r\\n10.236,7.7754\\r\\n5.4994,1.0173\\r\\n20.341,20.992\\r\\n10.136,6.6799\\r\\n7.3345,4.0259\\r\\n6.0062,1.2784\\r\\n7.2259,3.3411\\r\\n5.0269,-2.6807\\r\\n6.5479,0.29678\\r\\n7.5386,3.8845\\r\\n5.0365,5.7014\\r\\n10.274,6.7526\\r\\n5.1077,2.0576\\r\\n5.7292,0.47953\\r\\n5.1884,0.20421\\r\\n6.3557,0.67861\\r\\n9.7687,7.5435\\r\\n6.5159,5.3436\\r\\n8.5172,4.2415\\r\\n9.1802,6.7981\\r\\n6.002,0.92695\\r\\n5.5204,0.152\\r\\n5.0594,2.8214\\r\\n5.7077,1.8451\\r\\n7.6366,4.2959\\r\\n5.8707,7.2029\\r\\n5.3054,1.9869\\r\\n8.2934,0.14454\\r\\n13.394,9.0551\\r\\n5.4369,0.61705\\r\\n'}"
            ]
          },
          "metadata": {
            "tags": []
          },
          "execution_count": 1
        }
      ]
    },
    {
      "cell_type": "code",
      "metadata": {
        "colab": {
          "resources": {
            "http://localhost:8080/nbextensions/google.colab/files.js": {
              "data": "Ly8gQ29weXJpZ2h0IDIwMTcgR29vZ2xlIExMQwovLwovLyBMaWNlbnNlZCB1bmRlciB0aGUgQXBhY2hlIExpY2Vuc2UsIFZlcnNpb24gMi4wICh0aGUgIkxpY2Vuc2UiKTsKLy8geW91IG1heSBub3QgdXNlIHRoaXMgZmlsZSBleGNlcHQgaW4gY29tcGxpYW5jZSB3aXRoIHRoZSBMaWNlbnNlLgovLyBZb3UgbWF5IG9idGFpbiBhIGNvcHkgb2YgdGhlIExpY2Vuc2UgYXQKLy8KLy8gICAgICBodHRwOi8vd3d3LmFwYWNoZS5vcmcvbGljZW5zZXMvTElDRU5TRS0yLjAKLy8KLy8gVW5sZXNzIHJlcXVpcmVkIGJ5IGFwcGxpY2FibGUgbGF3IG9yIGFncmVlZCB0byBpbiB3cml0aW5nLCBzb2Z0d2FyZQovLyBkaXN0cmlidXRlZCB1bmRlciB0aGUgTGljZW5zZSBpcyBkaXN0cmlidXRlZCBvbiBhbiAiQVMgSVMiIEJBU0lTLAovLyBXSVRIT1VUIFdBUlJBTlRJRVMgT1IgQ09ORElUSU9OUyBPRiBBTlkgS0lORCwgZWl0aGVyIGV4cHJlc3Mgb3IgaW1wbGllZC4KLy8gU2VlIHRoZSBMaWNlbnNlIGZvciB0aGUgc3BlY2lmaWMgbGFuZ3VhZ2UgZ292ZXJuaW5nIHBlcm1pc3Npb25zIGFuZAovLyBsaW1pdGF0aW9ucyB1bmRlciB0aGUgTGljZW5zZS4KCi8qKgogKiBAZmlsZW92ZXJ2aWV3IEhlbHBlcnMgZm9yIGdvb2dsZS5jb2xhYiBQeXRob24gbW9kdWxlLgogKi8KKGZ1bmN0aW9uKHNjb3BlKSB7CmZ1bmN0aW9uIHNwYW4odGV4dCwgc3R5bGVBdHRyaWJ1dGVzID0ge30pIHsKICBjb25zdCBlbGVtZW50ID0gZG9jdW1lbnQuY3JlYXRlRWxlbWVudCgnc3BhbicpOwogIGVsZW1lbnQudGV4dENvbnRlbnQgPSB0ZXh0OwogIGZvciAoY29uc3Qga2V5IG9mIE9iamVjdC5rZXlzKHN0eWxlQXR0cmlidXRlcykpIHsKICAgIGVsZW1lbnQuc3R5bGVba2V5XSA9IHN0eWxlQXR0cmlidXRlc1trZXldOwogIH0KICByZXR1cm4gZWxlbWVudDsKfQoKLy8gTWF4IG51bWJlciBvZiBieXRlcyB3aGljaCB3aWxsIGJlIHVwbG9hZGVkIGF0IGEgdGltZS4KY29uc3QgTUFYX1BBWUxPQURfU0laRSA9IDEwMCAqIDEwMjQ7CgpmdW5jdGlvbiBfdXBsb2FkRmlsZXMoaW5wdXRJZCwgb3V0cHV0SWQpIHsKICBjb25zdCBzdGVwcyA9IHVwbG9hZEZpbGVzU3RlcChpbnB1dElkLCBvdXRwdXRJZCk7CiAgY29uc3Qgb3V0cHV0RWxlbWVudCA9IGRvY3VtZW50LmdldEVsZW1lbnRCeUlkKG91dHB1dElkKTsKICAvLyBDYWNoZSBzdGVwcyBvbiB0aGUgb3V0cHV0RWxlbWVudCB0byBtYWtlIGl0IGF2YWlsYWJsZSBmb3IgdGhlIG5leHQgY2FsbAogIC8vIHRvIHVwbG9hZEZpbGVzQ29udGludWUgZnJvbSBQeXRob24uCiAgb3V0cHV0RWxlbWVudC5zdGVwcyA9IHN0ZXBzOwoKICByZXR1cm4gX3VwbG9hZEZpbGVzQ29udGludWUob3V0cHV0SWQpOwp9CgovLyBUaGlzIGlzIHJvdWdobHkgYW4gYXN5bmMgZ2VuZXJhdG9yIChub3Qgc3VwcG9ydGVkIGluIHRoZSBicm93c2VyIHlldCksCi8vIHdoZXJlIHRoZXJlIGFyZSBtdWx0aXBsZSBhc3luY2hyb25vdXMgc3RlcHMgYW5kIHRoZSBQeXRob24gc2lkZSBpcyBnb2luZwovLyB0byBwb2xsIGZvciBjb21wbGV0aW9uIG9mIGVhY2ggc3RlcC4KLy8gVGhpcyB1c2VzIGEgUHJvbWlzZSB0byBibG9jayB0aGUgcHl0aG9uIHNpZGUgb24gY29tcGxldGlvbiBvZiBlYWNoIHN0ZXAsCi8vIHRoZW4gcGFzc2VzIHRoZSByZXN1bHQgb2YgdGhlIHByZXZpb3VzIHN0ZXAgYXMgdGhlIGlucHV0IHRvIHRoZSBuZXh0IHN0ZXAuCmZ1bmN0aW9uIF91cGxvYWRGaWxlc0NvbnRpbnVlKG91dHB1dElkKSB7CiAgY29uc3Qgb3V0cHV0RWxlbWVudCA9IGRvY3VtZW50LmdldEVsZW1lbnRCeUlkKG91dHB1dElkKTsKICBjb25zdCBzdGVwcyA9IG91dHB1dEVsZW1lbnQuc3RlcHM7CgogIGNvbnN0IG5leHQgPSBzdGVwcy5uZXh0KG91dHB1dEVsZW1lbnQubGFzdFByb21pc2VWYWx1ZSk7CiAgcmV0dXJuIFByb21pc2UucmVzb2x2ZShuZXh0LnZhbHVlLnByb21pc2UpLnRoZW4oKHZhbHVlKSA9PiB7CiAgICAvLyBDYWNoZSB0aGUgbGFzdCBwcm9taXNlIHZhbHVlIHRvIG1ha2UgaXQgYXZhaWxhYmxlIHRvIHRoZSBuZXh0CiAgICAvLyBzdGVwIG9mIHRoZSBnZW5lcmF0b3IuCiAgICBvdXRwdXRFbGVtZW50Lmxhc3RQcm9taXNlVmFsdWUgPSB2YWx1ZTsKICAgIHJldHVybiBuZXh0LnZhbHVlLnJlc3BvbnNlOwogIH0pOwp9CgovKioKICogR2VuZXJhdG9yIGZ1bmN0aW9uIHdoaWNoIGlzIGNhbGxlZCBiZXR3ZWVuIGVhY2ggYXN5bmMgc3RlcCBvZiB0aGUgdXBsb2FkCiAqIHByb2Nlc3MuCiAqIEBwYXJhbSB7c3RyaW5nfSBpbnB1dElkIEVsZW1lbnQgSUQgb2YgdGhlIGlucHV0IGZpbGUgcGlja2VyIGVsZW1lbnQuCiAqIEBwYXJhbSB7c3RyaW5nfSBvdXRwdXRJZCBFbGVtZW50IElEIG9mIHRoZSBvdXRwdXQgZGlzcGxheS4KICogQHJldHVybiB7IUl0ZXJhYmxlPCFPYmplY3Q+fSBJdGVyYWJsZSBvZiBuZXh0IHN0ZXBzLgogKi8KZnVuY3Rpb24qIHVwbG9hZEZpbGVzU3RlcChpbnB1dElkLCBvdXRwdXRJZCkgewogIGNvbnN0IGlucHV0RWxlbWVudCA9IGRvY3VtZW50LmdldEVsZW1lbnRCeUlkKGlucHV0SWQpOwogIGlucHV0RWxlbWVudC5kaXNhYmxlZCA9IGZhbHNlOwoKICBjb25zdCBvdXRwdXRFbGVtZW50ID0gZG9jdW1lbnQuZ2V0RWxlbWVudEJ5SWQob3V0cHV0SWQpOwogIG91dHB1dEVsZW1lbnQuaW5uZXJIVE1MID0gJyc7CgogIGNvbnN0IHBpY2tlZFByb21pc2UgPSBuZXcgUHJvbWlzZSgocmVzb2x2ZSkgPT4gewogICAgaW5wdXRFbGVtZW50LmFkZEV2ZW50TGlzdGVuZXIoJ2NoYW5nZScsIChlKSA9PiB7CiAgICAgIHJlc29sdmUoZS50YXJnZXQuZmlsZXMpOwogICAgfSk7CiAgfSk7CgogIGNvbnN0IGNhbmNlbCA9IGRvY3VtZW50LmNyZWF0ZUVsZW1lbnQoJ2J1dHRvbicpOwogIGlucHV0RWxlbWVudC5wYXJlbnRFbGVtZW50LmFwcGVuZENoaWxkKGNhbmNlbCk7CiAgY2FuY2VsLnRleHRDb250ZW50ID0gJ0NhbmNlbCB1cGxvYWQnOwogIGNvbnN0IGNhbmNlbFByb21pc2UgPSBuZXcgUHJvbWlzZSgocmVzb2x2ZSkgPT4gewogICAgY2FuY2VsLm9uY2xpY2sgPSAoKSA9PiB7CiAgICAgIHJlc29sdmUobnVsbCk7CiAgICB9OwogIH0pOwoKICAvLyBXYWl0IGZvciB0aGUgdXNlciB0byBwaWNrIHRoZSBmaWxlcy4KICBjb25zdCBmaWxlcyA9IHlpZWxkIHsKICAgIHByb21pc2U6IFByb21pc2UucmFjZShbcGlja2VkUHJvbWlzZSwgY2FuY2VsUHJvbWlzZV0pLAogICAgcmVzcG9uc2U6IHsKICAgICAgYWN0aW9uOiAnc3RhcnRpbmcnLAogICAgfQogIH07CgogIGNhbmNlbC5yZW1vdmUoKTsKCiAgLy8gRGlzYWJsZSB0aGUgaW5wdXQgZWxlbWVudCBzaW5jZSBmdXJ0aGVyIHBpY2tzIGFyZSBub3QgYWxsb3dlZC4KICBpbnB1dEVsZW1lbnQuZGlzYWJsZWQgPSB0cnVlOwoKICBpZiAoIWZpbGVzKSB7CiAgICByZXR1cm4gewogICAgICByZXNwb25zZTogewogICAgICAgIGFjdGlvbjogJ2NvbXBsZXRlJywKICAgICAgfQogICAgfTsKICB9CgogIGZvciAoY29uc3QgZmlsZSBvZiBmaWxlcykgewogICAgY29uc3QgbGkgPSBkb2N1bWVudC5jcmVhdGVFbGVtZW50KCdsaScpOwogICAgbGkuYXBwZW5kKHNwYW4oZmlsZS5uYW1lLCB7Zm9udFdlaWdodDogJ2JvbGQnfSkpOwogICAgbGkuYXBwZW5kKHNwYW4oCiAgICAgICAgYCgke2ZpbGUudHlwZSB8fCAnbi9hJ30pIC0gJHtmaWxlLnNpemV9IGJ5dGVzLCBgICsKICAgICAgICBgbGFzdCBtb2RpZmllZDogJHsKICAgICAgICAgICAgZmlsZS5sYXN0TW9kaWZpZWREYXRlID8gZmlsZS5sYXN0TW9kaWZpZWREYXRlLnRvTG9jYWxlRGF0ZVN0cmluZygpIDoKICAgICAgICAgICAgICAgICAgICAgICAgICAgICAgICAgICAgJ24vYSd9IC0gYCkpOwogICAgY29uc3QgcGVyY2VudCA9IHNwYW4oJzAlIGRvbmUnKTsKICAgIGxpLmFwcGVuZENoaWxkKHBlcmNlbnQpOwoKICAgIG91dHB1dEVsZW1lbnQuYXBwZW5kQ2hpbGQobGkpOwoKICAgIGNvbnN0IGZpbGVEYXRhUHJvbWlzZSA9IG5ldyBQcm9taXNlKChyZXNvbHZlKSA9PiB7CiAgICAgIGNvbnN0IHJlYWRlciA9IG5ldyBGaWxlUmVhZGVyKCk7CiAgICAgIHJlYWRlci5vbmxvYWQgPSAoZSkgPT4gewogICAgICAgIHJlc29sdmUoZS50YXJnZXQucmVzdWx0KTsKICAgICAgfTsKICAgICAgcmVhZGVyLnJlYWRBc0FycmF5QnVmZmVyKGZpbGUpOwogICAgfSk7CiAgICAvLyBXYWl0IGZvciB0aGUgZGF0YSB0byBiZSByZWFkeS4KICAgIGxldCBmaWxlRGF0YSA9IHlpZWxkIHsKICAgICAgcHJvbWlzZTogZmlsZURhdGFQcm9taXNlLAogICAgICByZXNwb25zZTogewogICAgICAgIGFjdGlvbjogJ2NvbnRpbnVlJywKICAgICAgfQogICAgfTsKCiAgICAvLyBVc2UgYSBjaHVua2VkIHNlbmRpbmcgdG8gYXZvaWQgbWVzc2FnZSBzaXplIGxpbWl0cy4gU2VlIGIvNjIxMTU2NjAuCiAgICBsZXQgcG9zaXRpb24gPSAwOwogICAgd2hpbGUgKHBvc2l0aW9uIDwgZmlsZURhdGEuYnl0ZUxlbmd0aCkgewogICAgICBjb25zdCBsZW5ndGggPSBNYXRoLm1pbihmaWxlRGF0YS5ieXRlTGVuZ3RoIC0gcG9zaXRpb24sIE1BWF9QQVlMT0FEX1NJWkUpOwogICAgICBjb25zdCBjaHVuayA9IG5ldyBVaW50OEFycmF5KGZpbGVEYXRhLCBwb3NpdGlvbiwgbGVuZ3RoKTsKICAgICAgcG9zaXRpb24gKz0gbGVuZ3RoOwoKICAgICAgY29uc3QgYmFzZTY0ID0gYnRvYShTdHJpbmcuZnJvbUNoYXJDb2RlLmFwcGx5KG51bGwsIGNodW5rKSk7CiAgICAgIHlpZWxkIHsKICAgICAgICByZXNwb25zZTogewogICAgICAgICAgYWN0aW9uOiAnYXBwZW5kJywKICAgICAgICAgIGZpbGU6IGZpbGUubmFtZSwKICAgICAgICAgIGRhdGE6IGJhc2U2NCwKICAgICAgICB9LAogICAgICB9OwogICAgICBwZXJjZW50LnRleHRDb250ZW50ID0KICAgICAgICAgIGAke01hdGgucm91bmQoKHBvc2l0aW9uIC8gZmlsZURhdGEuYnl0ZUxlbmd0aCkgKiAxMDApfSUgZG9uZWA7CiAgICB9CiAgfQoKICAvLyBBbGwgZG9uZS4KICB5aWVsZCB7CiAgICByZXNwb25zZTogewogICAgICBhY3Rpb246ICdjb21wbGV0ZScsCiAgICB9CiAgfTsKfQoKc2NvcGUuZ29vZ2xlID0gc2NvcGUuZ29vZ2xlIHx8IHt9OwpzY29wZS5nb29nbGUuY29sYWIgPSBzY29wZS5nb29nbGUuY29sYWIgfHwge307CnNjb3BlLmdvb2dsZS5jb2xhYi5fZmlsZXMgPSB7CiAgX3VwbG9hZEZpbGVzLAogIF91cGxvYWRGaWxlc0NvbnRpbnVlLAp9Owp9KShzZWxmKTsK",
              "ok": true,
              "headers": [
                [
                  "content-type",
                  "application/javascript"
                ]
              ],
              "status": 200,
              "status_text": ""
            }
          },
          "base_uri": "https://localhost:8080/",
          "height": 110
        },
        "id": "SrFtTh0lxc5m",
        "outputId": "90cb3f83-daf6-4a83-e40b-1ac5a8abb344"
      },
      "source": [
        "from google.colab import files\n",
        "files.upload()"
      ],
      "execution_count": null,
      "outputs": [
        {
          "output_type": "display_data",
          "data": {
            "text/html": [
              "\n",
              "     <input type=\"file\" id=\"files-ce8f1bc6-89ca-4d5d-a0da-379605be2fe6\" name=\"files[]\" multiple disabled\n",
              "        style=\"border:none\" />\n",
              "     <output id=\"result-ce8f1bc6-89ca-4d5d-a0da-379605be2fe6\">\n",
              "      Upload widget is only available when the cell has been executed in the\n",
              "      current browser session. Please rerun this cell to enable.\n",
              "      </output>\n",
              "      <script src=\"/nbextensions/google.colab/files.js\"></script> "
            ],
            "text/plain": [
              "<IPython.core.display.HTML object>"
            ]
          },
          "metadata": {
            "tags": []
          }
        },
        {
          "output_type": "stream",
          "text": [
            "Saving ex1data2.txt to ex1data2.txt\n"
          ],
          "name": "stdout"
        },
        {
          "output_type": "execute_result",
          "data": {
            "text/plain": [
              "{'ex1data2.txt': b'2104,3,399900\\r\\n1600,3,329900\\r\\n2400,3,369000\\r\\n1416,2,232000\\r\\n3000,4,539900\\r\\n1985,4,299900\\r\\n1534,3,314900\\r\\n1427,3,198999\\r\\n1380,3,212000\\r\\n1494,3,242500\\r\\n1940,4,239999\\r\\n2000,3,347000\\r\\n1890,3,329999\\r\\n4478,5,699900\\r\\n1268,3,259900\\r\\n2300,4,449900\\r\\n1320,2,299900\\r\\n1236,3,199900\\r\\n2609,4,499998\\r\\n3031,4,599000\\r\\n1767,3,252900\\r\\n1888,2,255000\\r\\n1604,3,242900\\r\\n1962,4,259900\\r\\n3890,3,573900\\r\\n1100,3,249900\\r\\n1458,3,464500\\r\\n2526,3,469000\\r\\n2200,3,475000\\r\\n2637,3,299900\\r\\n1839,2,349900\\r\\n1000,1,169900\\r\\n2040,4,314900\\r\\n3137,3,579900\\r\\n1811,4,285900\\r\\n1437,3,249900\\r\\n1239,3,229900\\r\\n2132,4,345000\\r\\n4215,4,549000\\r\\n2162,4,287000\\r\\n1664,2,368500\\r\\n2238,3,329900\\r\\n2567,4,314000\\r\\n1200,3,299000\\r\\n852,2,179900\\r\\n1852,4,299900\\r\\n1203,3,239500\\r\\n'}"
            ]
          },
          "metadata": {
            "tags": []
          },
          "execution_count": 2
        }
      ]
    },
    {
      "cell_type": "code",
      "metadata": {
        "id": "UmLIyKe7jpbY",
        "colab": {
          "base_uri": "https://localhost:8080/",
          "height": 646
        },
        "outputId": "178f26ac-9417-4535-960e-9cb1682fcb82"
      },
      "source": [
        "from numpy import loadtxt, zeros, ones, array, linspace, logspace\n",
        "from pylab import scatter, show, title, xlabel, ylabel, plot, contour\n",
        "\n",
        "\n",
        "#Evaluate the linear regression         Y =   -3.63029144  + 1.16636235 * X1\n",
        "def compute_cost(X, y, theta):\n",
        "    '''\n",
        "    Comput cost for linear regression\n",
        "    '''\n",
        "    #Number of training samples\n",
        "    m = y.size\n",
        "\n",
        "    predictions = X.dot(theta).flatten() #predictions represent the expected value for when plotting the graph\n",
        "\n",
        "    sqErrors = (predictions - y) ** 2\n",
        "\n",
        "    J = (1.0 / (2 * m)) * sqErrors.sum()\n",
        "\n",
        "    return J\n",
        "\n",
        "\n",
        "def gradient_descent(X, y, theta, alpha, num_iters):\n",
        "    '''\n",
        "    Performs gradient descent to learn theta\n",
        "    by taking num_items gradient steps with learning\n",
        "    rate alpha\n",
        "    '''\n",
        "    m = y.size\n",
        "    J_history = zeros(shape=(num_iters, 1))\n",
        "\n",
        "    for i in range(num_iters):\n",
        "\n",
        "        predictions = X.dot(theta).flatten()\n",
        "\n",
        "        errors_x1 = (predictions - y) * X[:, 0] #prediction deviation\n",
        "        errors_x2 = (predictions - y) * X[:, 1]\n",
        "\n",
        "        theta[0][0] = theta[0][0] - alpha * (1.0 / m) * errors_x1.sum()\n",
        "        theta[1][0] = theta[1][0] - alpha * (1.0 / m) * errors_x2.sum()\n",
        "\n",
        "        J_history[i, 0] = compute_cost(X, y, theta) #J_history allows you to remember the values of the cost function for every update.\n",
        "\n",
        "    return theta, J_history\n",
        "\n",
        "\n",
        "#Load the dataset\n",
        "data = loadtxt('ex1data1.txt', delimiter=',')\n",
        "\n",
        "#Plot the data\n",
        "scatter(data[:, 0], data[:, 1], marker='o', c='b')\n",
        "title('Profits distribution')\n",
        "xlabel('Population of City in 10,000s')\n",
        "ylabel('Profit in $10,000s')\n",
        "#show()\n",
        "\n",
        "X = data[:, 0]\n",
        "y = data[:, 1]\n",
        "\n",
        "\n",
        "#number of training samples\n",
        "m = y.size\n",
        "\n",
        "#Add a column of ones to X (interception data)\n",
        "it = ones(shape=(m, 2))\n",
        "it[:, 1] = X\n",
        "\n",
        "#Initialize theta parameters\n",
        "theta = zeros(shape=(2, 1))\n",
        "\n",
        "#Some gradient descent settings\n",
        "iterations = 1500\n",
        "alpha = 0.01\n",
        "\n",
        "#compute and display initial cost\n",
        "print (compute_cost(it, y, theta))\n",
        "\n",
        "theta, J_history = gradient_descent(it, y, theta, alpha, iterations)\n",
        "\n",
        "print (theta)\n",
        "#Predict values for population sizes of 35,000 and 70,000\n",
        "predict1 = array([1, 3.5]).dot(theta).flatten()\n",
        "print ('For population = 35,000, we predict a profit of %f' % (predict1 * 10000))\n",
        "predict2 = array([1, 7.0]).dot(theta).flatten()\n",
        "print ('For population = 70,000, we predict a profit of %f' % (predict2 * 10000))\n",
        "\n",
        "#Plot the results\n",
        "result = it.dot(theta).flatten()\n",
        "plot(data[:, 0], result)\n",
        "show()\n",
        "\n",
        "\n",
        "#Grid over which we will calculate J\n",
        "theta0_vals = linspace(-10, 10, 100)\n",
        "theta1_vals = linspace(-1, 4, 100)\n",
        "\n",
        "\n",
        "#initialize J_vals to a matrix of 0's\n",
        "J_vals = zeros(shape=(theta0_vals.size, theta1_vals.size))\n",
        "\n",
        "#Fill out J_vals\n",
        "for t1, element in enumerate(theta0_vals):\n",
        "    for t2, element2 in enumerate(theta1_vals):\n",
        "        thetaT = zeros(shape=(2, 1))\n",
        "        thetaT[0][0] = element\n",
        "        thetaT[1][0] = element2\n",
        "        J_vals[t1, t2] = compute_cost(it, y, thetaT)\n",
        "\n",
        "#Contour plot\n",
        "J_vals = J_vals.T\n",
        "#Plot J_vals as 15 contours spaced logarithmically between 0.01 and 100\n",
        "contour(theta0_vals, theta1_vals, J_vals, logspace(-2, 3, 20))\n",
        "xlabel('theta_0')\n",
        "ylabel('theta_1')\n",
        "scatter(theta[0][0], theta[1][0])\n",
        "show()"
      ],
      "execution_count": null,
      "outputs": [
        {
          "output_type": "stream",
          "text": [
            "32.072733877455676\n",
            "[[-3.63029144]\n",
            " [ 1.16636235]]\n",
            "For population = 35,000, we predict a profit of 4519.767868\n",
            "For population = 70,000, we predict a profit of 45342.450129\n"
          ],
          "name": "stdout"
        },
        {
          "output_type": "display_data",
          "data": {
            "image/png": "[encoded data removed]",
            "text/plain": [
              "<Figure size 432x288 with 1 Axes>"
            ]
          },
          "metadata": {
            "tags": [],
            "needs_background": "light"
          }
        },
        {
          "output_type": "display_data",
          "data": {
            "image/png": "[encoded data removed]",
            "text/plain": [
              "<Figure size 432x288 with 1 Axes>"
            ]
          },
          "metadata": {
            "tags": [],
            "needs_background": "light"
          }
        }
      ]
    },
    {
      "cell_type": "code",
      "metadata": {
        "id": "mltvMLxVj1nL",
        "colab": {
          "base_uri": "https://localhost:8080/",
          "height": 1000
        },
        "outputId": "9864ad05-39e6-4479-9395-5d3b98254cb1"
      },
      "source": [
        "from numpy import loadtxt, zeros, ones, array, linspace, logspace, mean, std, arange\n",
        "from mpl_toolkits.mplot3d import Axes3D\n",
        "import matplotlib.pyplot as plt\n",
        "from pylab import plot, show, xlabel, ylabel\n",
        "\n",
        "#Evaluate the linear regression       183865.197988\n",
        "\n",
        "def feature_normalize(X):\n",
        "    '''\n",
        "    Returns a normalized version of X where\n",
        "    the mean value of each feature is 0 and the standard deviation\n",
        "    is 1. This is often a good preprocessing step to do when\n",
        "    working with learning algorithms.\n",
        "    '''\n",
        "    mean_r = []\n",
        "    std_r = []\n",
        "\n",
        "    X_norm = X\n",
        "\n",
        "    n_c = X.shape[1]\n",
        "    for i in range(n_c):\n",
        "        m = mean(X[:, i])\n",
        "        s = std(X[:, i])\n",
        "        mean_r.append(m)\n",
        "        std_r.append(s)\n",
        "        X_norm[:, i] = (X_norm[:, i] - m) / s\n",
        "\n",
        "    return X_norm, mean_r, std_r\n",
        "\n",
        "\n",
        "def compute_cost(X, y, theta):\n",
        "    '''\n",
        "    Comput cost for linear regression\n",
        "    '''\n",
        "    #Number of training samples\n",
        "    m = y.size\n",
        "\n",
        "    predictions = X.dot(theta)\n",
        "\n",
        "    sqErrors = (predictions - y)\n",
        "\n",
        "    J = (1.0 / (2 * m)) * sqErrors.T.dot(sqErrors)\n",
        "\n",
        "    return J\n",
        "\n",
        "\n",
        "def gradient_descent(X, y, theta, alpha, num_iters):\n",
        "    '''\n",
        "    Performs gradient descent to learn theta\n",
        "    by taking num_items gradient steps with learning\n",
        "    rate alpha\n",
        "    '''\n",
        "    m = y.size\n",
        "    J_history = zeros(shape=(num_iters, 1))\n",
        "\n",
        "    for i in range(num_iters):\n",
        "\n",
        "        predictions = X.dot(theta)\n",
        "\n",
        "        theta_size = theta.size\n",
        "\n",
        "        for it in range(theta_size):\n",
        "\n",
        "            temp = X[:, it]\n",
        "            temp.shape = (m, 1)\n",
        "\n",
        "            errors_x1 = (predictions - y) * temp\n",
        "\n",
        "            theta[it][0] = theta[it][0] - alpha * (1.0 / m) * errors_x1.sum()\n",
        "\n",
        "        J_history[i, 0] = compute_cost(X, y, theta)\n",
        "\n",
        "    return theta, J_history\n",
        "\n",
        "#Load the dataset\n",
        "data = loadtxt('ex1data2.txt', delimiter=',')\n",
        "\n",
        "\n",
        "#Plot the data\n",
        "'''\n",
        "fig = plt.figure()\n",
        "ax = fig.add_subplot(111, projection='3d')\n",
        "n = 100\n",
        "for c, m, zl, zh in [('r', 'o', -50, -25)]:\n",
        "    xs = data[:, 0]\n",
        "    ys = data[:, 1]\n",
        "    zs = data[:, 2]\n",
        "    ax.scatter(xs, ys, zs, c=c, marker=m)\n",
        "ax.set_xlabel('Size of the House')\n",
        "ax.set_ylabel('Number of Bedrooms')\n",
        "ax.set_zlabel('Price of the House')\n",
        "plt.show()\n",
        "'''\n",
        "\n",
        "\n",
        "X = data[:, :2]\n",
        "y = data[:, 2]\n",
        "\n",
        "\n",
        "#number of training samples\n",
        "m = y.size\n",
        "\n",
        "y.shape = (m, 1)\n",
        "\n",
        "#Scale features and set them to zero mean\n",
        "x, mean_r, std_r = feature_normalize(X)\n",
        "\n",
        "#Add a column of ones to X (interception data)\n",
        "it = ones(shape=(m, 3))\n",
        "it[:, 1:3] = x\n",
        "\n",
        "#Some gradient descent settings\n",
        "iterations = 100\n",
        "alpha = 0.01\n",
        "\n",
        "#Init Theta and Run Gradient Descent\n",
        "theta = zeros(shape=(3, 1))\n",
        "\n",
        "theta, J_history = gradient_descent(it, y, theta, alpha, iterations)\n",
        "print (theta, J_history)\n",
        "plot(arange(iterations), J_history)\n",
        "xlabel('Iterations')\n",
        "ylabel('Cost Function')\n",
        "show()\n",
        "\n",
        "#Predict price of a 1650 sq-ft 3 br house\n",
        "price = array([1.0,   ((1650.0 - mean_r[0]) / std_r[0]), ((3 - mean_r[1]) / std_r[1])]).dot(theta)\n",
        "print ('Predicted price of a 1650 sq-ft, 3 br house: %f' % (price))"
      ],
      "execution_count": null,
      "outputs": [
        {
          "output_type": "stream",
          "text": [
            "[[215810.61679138]\n",
            " [ 61446.18781361]\n",
            " [ 20070.13313796]] [[6.42977763e+10]\n",
            " [6.30310183e+10]\n",
            " [6.17906942e+10]\n",
            " [6.05762369e+10]\n",
            " [5.93870917e+10]\n",
            " [5.82227165e+10]\n",
            " [5.70825809e+10]\n",
            " [5.59661664e+10]\n",
            " [5.48729661e+10]\n",
            " [5.38024840e+10]\n",
            " [5.27542352e+10]\n",
            " [5.17277455e+10]\n",
            " [5.07225512e+10]\n",
            " [4.97381986e+10]\n",
            " [4.87742442e+10]\n",
            " [4.78302542e+10]\n",
            " [4.69058042e+10]\n",
            " [4.60004793e+10]\n",
            " [4.51138734e+10]\n",
            " [4.42455895e+10]\n",
            " [4.33952394e+10]\n",
            " [4.25624431e+10]\n",
            " [4.17468290e+10]\n",
            " [4.09480338e+10]\n",
            " [4.01657018e+10]\n",
            " [3.93994853e+10]\n",
            " [3.86490441e+10]\n",
            " [3.79140452e+10]\n",
            " [3.71941632e+10]\n",
            " [3.64890795e+10]\n",
            " [3.57984824e+10]\n",
            " [3.51220671e+10]\n",
            " [3.44595353e+10]\n",
            " [3.38105953e+10]\n",
            " [3.31749615e+10]\n",
            " [3.25523545e+10]\n",
            " [3.19425011e+10]\n",
            " [3.13451339e+10]\n",
            " [3.07599912e+10]\n",
            " [3.01868171e+10]\n",
            " [2.96253609e+10]\n",
            " [2.90753776e+10]\n",
            " [2.85366274e+10]\n",
            " [2.80088755e+10]\n",
            " [2.74918923e+10]\n",
            " [2.69854530e+10]\n",
            " [2.64893378e+10]\n",
            " [2.60033314e+10]\n",
            " [2.55272232e+10]\n",
            " [2.50608070e+10]\n",
            " [2.46038813e+10]\n",
            " [2.41562485e+10]\n",
            " [2.37177155e+10]\n",
            " [2.32880932e+10]\n",
            " [2.28671966e+10]\n",
            " [2.24548446e+10]\n",
            " [2.20508599e+10]\n",
            " [2.16550690e+10]\n",
            " [2.12673022e+10]\n",
            " [2.08873932e+10]\n",
            " [2.05151794e+10]\n",
            " [2.01505016e+10]\n",
            " [1.97932039e+10]\n",
            " [1.94431337e+10]\n",
            " [1.91001418e+10]\n",
            " [1.87640820e+10]\n",
            " [1.84348112e+10]\n",
            " [1.81121894e+10]\n",
            " [1.77960795e+10]\n",
            " [1.74863472e+10]\n",
            " [1.71828613e+10]\n",
            " [1.68854931e+10]\n",
            " [1.65941167e+10]\n",
            " [1.63086088e+10]\n",
            " [1.60288489e+10]\n",
            " [1.57547187e+10]\n",
            " [1.54861027e+10]\n",
            " [1.52228876e+10]\n",
            " [1.49649626e+10]\n",
            " [1.47122192e+10]\n",
            " [1.44645511e+10]\n",
            " [1.42218544e+10]\n",
            " [1.39840272e+10]\n",
            " [1.37509698e+10]\n",
            " [1.35225846e+10]\n",
            " [1.32987759e+10]\n",
            " [1.30794503e+10]\n",
            " [1.28645160e+10]\n",
            " [1.26538834e+10]\n",
            " [1.24474646e+10]\n",
            " [1.22451736e+10]\n",
            " [1.20469261e+10]\n",
            " [1.18526397e+10]\n",
            " [1.16622337e+10]\n",
            " [1.14756289e+10]\n",
            " [1.12927480e+10]\n",
            " [1.11135150e+10]\n",
            " [1.09378558e+10]\n",
            " [1.07656977e+10]\n",
            " [1.05969693e+10]]\n"
          ],
          "name": "stdout"
        },
        {
          "output_type": "display_data",
          "data": {
            "image/png": "[encoded data removed]",
            "text/plain": [
              "<Figure size 432x288 with 1 Axes>"
            ]
          },
          "metadata": {
            "tags": [],
            "needs_background": "light"
          }
        },
        {
          "output_type": "stream",
          "text": [
            "Predicted price of a 1650 sq-ft, 3 br house: 183865.197988\n"
          ],
          "name": "stdout"
        }
      ]
    }
  ]
}