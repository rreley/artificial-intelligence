{
  "nbformat": 4,
  "nbformat_minor": 0,
  "metadata": {
    "colab": {
      "name": "Homework1.ipynb",
      "provenance": [],
      "collapsed_sections": [],
      "authorship_tag": "ABX9TyP6QxG7qSwTbCqFPL3xWdLq"
    },
    "kernelspec": {
      "name": "python3",
      "display_name": "Python 3"
    }
  },
  "cells": [
    {
      "cell_type": "code",
      "metadata": {
        "colab": {
          "base_uri": "https://localhost:8080/"
        },
        "id": "mZh19oAhWYhc",
        "outputId": "d943cb8d-92bc-4a5b-96ea-fe8222483523"
      },
      "source": [
        "from google.colab import drive\n",
        "drive.mount('/content/gdrive')"
      ],
      "execution_count": null,
      "outputs": [
        {
          "output_type": "stream",
          "text": [
            "Mounted at /content/gdrive\n"
          ],
          "name": "stdout"
        }
      ]
    },
    {
      "cell_type": "code",
      "metadata": {
        "colab": {
          "base_uri": "https://localhost:8080/"
        },
        "id": "Y2SMal3dXIrH",
        "outputId": "34b2bb0f-2d2e-44b2-f295-74fb3907d1cc"
      },
      "source": [
        "def convertToBinary(num):\n",
        "     \n",
        "    if num >= 1: #0 binary is 0000\n",
        "        convertToBinary(num // 2) #must be whole number\n",
        "    print(num % 2, end = '')\n",
        " \n",
        "if __name__ == '__main__':\n",
        "     \n",
        "    dec = 11 #define value\n",
        "    convertToBinary(dec) #function call"
      ],
      "execution_count": null,
      "outputs": [
        {
          "output_type": "stream",
          "text": [
            "01011"
          ],
          "name": "stdout"
        }
      ]
    },
    {
      "cell_type": "code",
      "metadata": {
        "colab": {
          "base_uri": "https://localhost:8080/"
        },
        "id": "sm2eItIMaWjG",
        "outputId": "423b29a6-7d98-4ef7-a332-58862a36d2d4"
      },
      "source": [
        "def intersection(x, y): \n",
        "  \n",
        "    temp = set(y) \n",
        "    z = [value for value in x if value in temp] #set temp for y and z equals the values that are in both x and y\n",
        "    return z \n",
        "\n",
        "x = [4, 9, 5] \n",
        "y = [9, 4, 9, 8, 4] #define array\n",
        "print(intersection(x, y)) #function call"
      ],
      "execution_count": null,
      "outputs": [
        {
          "output_type": "stream",
          "text": [
            "[4, 9]\n"
          ],
          "name": "stdout"
        }
      ]
    },
    {
      "cell_type": "code",
      "metadata": {
        "colab": {
          "base_uri": "https://localhost:8080/"
        },
        "id": "1c8nwpPzDKmp",
        "outputId": "ed61eaaf-d23f-4f20-d27a-32fb80e5b914"
      },
      "source": [
        "def Jump(arr):\n",
        "\n",
        "      n = len(arr)-1 #n equals array object total minus 1\n",
        "      for i in range(n-1,-1,-1):\n",
        "         if arr[i] + i >= n:\n",
        "            n = i\n",
        "\n",
        "      return n == 0 #return true when n=0 otherwise false\n",
        "\n",
        "arr = [3, 3, 1, 0, 2, 0, 1] #define array\n",
        "print(Jump(arr)) #function call"
      ],
      "execution_count": null,
      "outputs": [
        {
          "output_type": "stream",
          "text": [
            "True\n"
          ],
          "name": "stdout"
        }
      ]
    },
    {
      "cell_type": "code",
      "metadata": {
        "colab": {
          "base_uri": "https://localhost:8080/"
        },
        "id": "y3LezdbMYm_N",
        "outputId": "fe1be4a7-b89f-45a3-f812-ea3a3d4ac786"
      },
      "source": [
        "def linearSearch(arr, n): \n",
        "    \n",
        "    for i in range(n): \n",
        "        if arr[i] is i: \n",
        "            return i #if value is inside the array, return the value\n",
        "    return -1\n",
        "  \n",
        "arr = [-10, -5, 0, 3, 7] #define array\n",
        "n = len(arr) #n equals the number of objects in the array\n",
        "print(str(linearSearch(arr,n))) #function call"
      ],
      "execution_count": null,
      "outputs": [
        {
          "output_type": "stream",
          "text": [
            "3\n"
          ],
          "name": "stdout"
        }
      ]
    },
    {
      "cell_type": "code",
      "metadata": {
        "colab": {
          "base_uri": "https://localhost:8080/"
        },
        "id": "a8z9ra9jcQP9",
        "outputId": "26d58562-8e53-473d-ab89-8b03086de4ad"
      },
      "source": [
        "def isPrime(n): \n",
        "      \n",
        "    if n <= 1 : \n",
        "        return False\n",
        "    #prime numbers cannot less than 2\n",
        "  \n",
        "    for i in range(2, n): \n",
        "        if n % i == 0: \n",
        "            return False\n",
        "    #prime numbers cannot be divided with no remainder\n",
        "  \n",
        "    return True\n",
        "  \n",
        "def printPrime(n): \n",
        "    for i in range(2, n + 1): #output must be equal to or less than the input\n",
        "        if isPrime(i): \n",
        "            print(i, end = \" \") \n",
        "  \n",
        "if __name__ == \"__main__\" : \n",
        "    n = 10 #define value\n",
        "    printPrime(n) #function call"
      ],
      "execution_count": null,
      "outputs": [
        {
          "output_type": "stream",
          "text": [
            "2 3 5 7 "
          ],
          "name": "stdout"
        }
      ]
    }
  ]
}